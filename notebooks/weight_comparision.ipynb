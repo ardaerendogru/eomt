{
 "cells": [
  {
   "cell_type": "code",
   "execution_count": 1,
   "metadata": {},
   "outputs": [],
   "source": [
    "import os\n",
    "import sys\n",
    "sys.path.append('../')"
   ]
  },
  {
   "cell_type": "code",
   "execution_count": null,
   "metadata": {},
   "outputs": [],
   "source": [
    "from models import EoMT\n",
    "\n",
    "\n",
    "\n",
    "EoMT(encoder,\n",
    "    num_classes,\n",
    "    num_q,\n",
    "    num_blocks=4,\n",
    "    masked_attn_enabled=True,\n",
    "    lora_class=None,\n",
    "    lora_r=None,\n",
    "    num_lora_free_blocks=None,\n",
    "    lora_layers=None,\n",
    "    lora_alpha=None,\n",
    "    ):"
   ]
  }
 ],
 "metadata": {
  "kernelspec": {
   "display_name": "EoMT",
   "language": "python",
   "name": "python3"
  },
  "language_info": {
   "codemirror_mode": {
    "name": "ipython",
    "version": 3
   },
   "file_extension": ".py",
   "mimetype": "text/x-python",
   "name": "python",
   "nbconvert_exporter": "python",
   "pygments_lexer": "ipython3",
   "version": "3.12.0"
  }
 },
 "nbformat": 4,
 "nbformat_minor": 2
}

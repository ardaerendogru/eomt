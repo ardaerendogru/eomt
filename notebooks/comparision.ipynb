{
 "cells": [
  {
   "cell_type": "code",
   "execution_count": 3,
   "metadata": {},
   "outputs": [],
   "source": [
    "import pandas as pd\n",
    "import matplotlib.pyplot as plt\n",
    "\n",
    "ade_scratch_path = './ade_scratch.csv'\n",
    "ade_coco_path = './ade_coco.csv'"
   ]
  },
  {
   "cell_type": "code",
   "execution_count": 11,
   "metadata": {},
   "outputs": [],
   "source": [
    "df_scratch = pd.read_csv(ade_scratch_path)\n",
    "df_coco = pd.read_csv(ade_coco_path)"
   ]
  },
  {
   "cell_type": "code",
   "execution_count": 16,
   "metadata": {},
   "outputs": [
    {
     "data": {
      "text/html": [
       "<div>\n",
       "<style scoped>\n",
       "    .dataframe tbody tr th:only-of-type {\n",
       "        vertical-align: middle;\n",
       "    }\n",
       "\n",
       "    .dataframe tbody tr th {\n",
       "        vertical-align: top;\n",
       "    }\n",
       "\n",
       "    .dataframe thead th {\n",
       "        text-align: right;\n",
       "    }\n",
       "</style>\n",
       "<table border=\"1\" class=\"dataframe\">\n",
       "  <thead>\n",
       "    <tr style=\"text-align: right;\">\n",
       "      <th></th>\n",
       "      <th>id</th>\n",
       "      <th>EoMT</th>\n",
       "      <th>FT</th>\n",
       "    </tr>\n",
       "  </thead>\n",
       "  <tbody>\n",
       "    <tr>\n",
       "      <th>0</th>\n",
       "      <td>plate</td>\n",
       "      <td>0.952711</td>\n",
       "      <td>0.954085</td>\n",
       "    </tr>\n",
       "    <tr>\n",
       "      <th>1</th>\n",
       "      <td>monitor, monitoring device</td>\n",
       "      <td>0.907917</td>\n",
       "      <td>0.901633</td>\n",
       "    </tr>\n",
       "    <tr>\n",
       "      <th>2</th>\n",
       "      <td>van</td>\n",
       "      <td>0.905549</td>\n",
       "      <td>0.903576</td>\n",
       "    </tr>\n",
       "    <tr>\n",
       "      <th>3</th>\n",
       "      <td>fence, fencing</td>\n",
       "      <td>0.894674</td>\n",
       "      <td>0.869367</td>\n",
       "    </tr>\n",
       "    <tr>\n",
       "      <th>4</th>\n",
       "      <td>ashcan, trash can, garbage can, wastebin, ash ...</td>\n",
       "      <td>0.866745</td>\n",
       "      <td>0.840431</td>\n",
       "    </tr>\n",
       "    <tr>\n",
       "      <th>...</th>\n",
       "      <td>...</td>\n",
       "      <td>...</td>\n",
       "      <td>...</td>\n",
       "    </tr>\n",
       "    <tr>\n",
       "      <th>145</th>\n",
       "      <td>boat</td>\n",
       "      <td>0.115729</td>\n",
       "      <td>0.129580</td>\n",
       "    </tr>\n",
       "    <tr>\n",
       "      <th>146</th>\n",
       "      <td>clock</td>\n",
       "      <td>0.089112</td>\n",
       "      <td>0.000000</td>\n",
       "    </tr>\n",
       "    <tr>\n",
       "      <th>147</th>\n",
       "      <td>hood, exhaust hood</td>\n",
       "      <td>0.077146</td>\n",
       "      <td>0.000000</td>\n",
       "    </tr>\n",
       "    <tr>\n",
       "      <th>148</th>\n",
       "      <td>shower</td>\n",
       "      <td>0.000000</td>\n",
       "      <td>0.281772</td>\n",
       "    </tr>\n",
       "    <tr>\n",
       "      <th>149</th>\n",
       "      <td>toilet, can, commode, crapper, pot, potty, sto...</td>\n",
       "      <td>0.000000</td>\n",
       "      <td>0.000000</td>\n",
       "    </tr>\n",
       "  </tbody>\n",
       "</table>\n",
       "<p>150 rows × 3 columns</p>\n",
       "</div>"
      ],
      "text/plain": [
       "                                                    id      EoMT        FT\n",
       "0                                                plate  0.952711  0.954085\n",
       "1                           monitor, monitoring device  0.907917  0.901633\n",
       "2                                                  van  0.905549  0.903576\n",
       "3                                       fence, fencing  0.894674  0.869367\n",
       "4    ashcan, trash can, garbage can, wastebin, ash ...  0.866745  0.840431\n",
       "..                                                 ...       ...       ...\n",
       "145                                               boat  0.115729  0.129580\n",
       "146                                              clock  0.089112  0.000000\n",
       "147                                 hood, exhaust hood  0.077146  0.000000\n",
       "148                                             shower  0.000000  0.281772\n",
       "149  toilet, can, commode, crapper, pot, potty, sto...  0.000000  0.000000\n",
       "\n",
       "[150 rows x 3 columns]"
      ]
     },
     "execution_count": 16,
     "metadata": {},
     "output_type": "execute_result"
    }
   ],
   "source": [
    "merged_df = pd.merge(df_scratch, df_coco, on='id', how='inner')\n",
    "merged_df\n"
   ]
  },
  {
   "cell_type": "code",
   "execution_count": 18,
   "metadata": {},
   "outputs": [],
   "source": [
    "merged_df['diff'] = merged_df['EoMT'] - merged_df['FT']"
   ]
  },
  {
   "cell_type": "code",
   "execution_count": 22,
   "metadata": {},
   "outputs": [],
   "source": [
    "merged_df.sort_values(by='diff', ascending=False, inplace=True)"
   ]
  },
  {
   "cell_type": "code",
   "execution_count": 24,
   "metadata": {},
   "outputs": [],
   "source": [
    "merged_df.to_csv('merged_df.csv', index=False)"
   ]
  },
  {
   "cell_type": "code",
   "execution_count": null,
   "metadata": {},
   "outputs": [],
   "source": []
  }
 ],
 "metadata": {
  "kernelspec": {
   "display_name": "EoMT",
   "language": "python",
   "name": "python3"
  },
  "language_info": {
   "codemirror_mode": {
    "name": "ipython",
    "version": 3
   },
   "file_extension": ".py",
   "mimetype": "text/x-python",
   "name": "python",
   "nbconvert_exporter": "python",
   "pygments_lexer": "ipython3",
   "version": "3.12.0"
  }
 },
 "nbformat": 4,
 "nbformat_minor": 2
}

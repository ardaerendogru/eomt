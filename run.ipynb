{
 "cells": [
  {
   "cell_type": "code",
   "execution_count": 1,
   "metadata": {},
   "outputs": [
    {
     "name": "stdout",
     "output_type": "stream",
     "text": [
      "Traceback (most recent call last):\n",
      "  File \"/storage/disk0/arda/thesis/eomt/main.py\", line 174, in <module>\n",
      "    cli_main()\n",
      "  File \"/storage/disk0/arda/thesis/eomt/main.py\", line 151, in cli_main\n",
      "    LightningCLI(\n",
      "  File \"/storage/disk0/arda/thesis/eomt/main.py\", line 88, in __init__\n",
      "    super().__init__(*args, **kwargs)\n",
      "  File \"/home/arda/miniconda3/envs/EoMT/lib/python3.12/site-packages/lightning/pytorch/cli.py\", line 385, in __init__\n",
      "    self.setup_parser(run, main_kwargs, subparser_kwargs)\n",
      "  File \"/home/arda/miniconda3/envs/EoMT/lib/python3.12/site-packages/lightning/pytorch/cli.py\", line 422, in setup_parser\n",
      "    self._add_subcommands(self.parser, **subparser_kwargs)\n",
      "  File \"/home/arda/miniconda3/envs/EoMT/lib/python3.12/site-packages/lightning/pytorch/cli.py\", line 500, in _add_subcommands\n",
      "    subcommand_parser = self._prepare_subcommand_parser(trainer_class, subcommand, **subparser_kwargs)\n",
      "                        ^^^^^^^^^^^^^^^^^^^^^^^^^^^^^^^^^^^^^^^^^^^^^^^^^^^^^^^^^^^^^^^^^^^^^^^^^^^^^^\n",
      "  File \"/home/arda/miniconda3/envs/EoMT/lib/python3.12/site-packages/lightning/pytorch/cli.py\", line 506, in _prepare_subcommand_parser\n",
      "    self._add_arguments(parser)\n",
      "  File \"/home/arda/miniconda3/envs/EoMT/lib/python3.12/site-packages/lightning/pytorch/cli.py\", line 458, in _add_arguments\n",
      "    self.add_arguments_to_parser(parser)\n",
      "  File \"/storage/disk0/arda/thesis/eomt/main.py\", line 128, in add_arguments_to_parser\n",
      "    print(parser.config)\n",
      "          ^^^^^^^^^^^^^\n",
      "AttributeError: 'LightningArgumentParser' object has no attribute 'config'\n"
     ]
    }
   ],
   "source": [
    "!python main.py fit   -c /home/arda/thesis/eomt/configs/ade20k/panoptic/eomt_large_640.yaml   --trainer.devices 2   --data.batch_size 8   --data.path data   --model.ckpt_path /home/arda/thesis/eomt/checkpoints/COCO_panoptic_640.bin   --model.load_ckpt_class_head False\n"
   ]
  },
  {
   "cell_type": "code",
   "execution_count": null,
   "metadata": {},
   "outputs": [],
   "source": []
  }
 ],
 "metadata": {
  "kernelspec": {
   "display_name": "EoMT",
   "language": "python",
   "name": "python3"
  },
  "language_info": {
   "codemirror_mode": {
    "name": "ipython",
    "version": 3
   },
   "file_extension": ".py",
   "mimetype": "text/x-python",
   "name": "python",
   "nbconvert_exporter": "python",
   "pygments_lexer": "ipython3",
   "version": "3.12.0"
  }
 },
 "nbformat": 4,
 "nbformat_minor": 2
}
